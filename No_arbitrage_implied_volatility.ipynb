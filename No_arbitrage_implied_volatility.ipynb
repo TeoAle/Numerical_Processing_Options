{
 "cells": [
  {
   "cell_type": "markdown",
   "metadata": {},
   "source": [
    "# Course assessment \n",
    "## Numerical processing of financial data MAP542 \n",
    "\n",
    "Stefano De Marco\n",
    "\n",
    "#### Objective\n",
    "The goal of this project is to fit some implied volatility parametrisations to market option data while studying their no-arbitrage properties.\n",
    "\n",
    "- Please write commented code. You can also use text cells for your comments and explanations.\n",
    "- The code must follow the good coding principles (it must be clean, readable, etc.). \n",
    "- Graphs must have a title, a legend and their axes must be labeled. \n",
    "- At the end, submit your notebooks and a pdf file of 5 to 8 pages into the Moodle Assignment you will find in \"Assessment part II\". In the pdf file, you are asked to explain the procedure you have followed to complete the given tasks, and present/discuss your results (being they positive or negative)."
   ]
  },
  {
   "cell_type": "markdown",
   "metadata": {},
   "source": [
    "#### Modules\n",
    "\n",
    "Feel free to add any other (open-source) module you need."
   ]
  },
  {
   "cell_type": "code",
   "execution_count": 8,
   "metadata": {},
   "outputs": [],
   "source": [
    "import numpy as np\n",
    "import pandas as pd\n",
    "import matplotlib.pyplot as plt"
   ]
  },
  {
   "cell_type": "markdown",
   "metadata": {},
   "source": [
    "## Part 1. The SVI parameterisation for the implied volatility"
   ]
  },
  {
   "cell_type": "markdown",
   "metadata": {},
   "source": [
    "### Part 1.1 \n",
    "\n",
    "$\\blacktriangleright$ __TO DO__: Complete and submit the notebook \"Notebook_9_no_arbitrage_implied_vol.ipynb\""
   ]
  },
  {
   "cell_type": "markdown",
   "metadata": {},
   "source": [
    "### Part 1.2\n",
    "\n",
    "$\\blacktriangleright$ __New dataset__ : you can download delayed option quotes on the SP500 index from the [CBOE quotes platform](http://www.cboe.com/delayedquote/quote-table) (index symbol: SPX). \n",
    " \n",
    "$\\blacktriangleright$ __TO DO__: In a new notebook, download a new dataset of option prices for one of the available maturities (the standard maturities for SPX options being the third Friday of each month), filter out quotes that have zero volume, and perform a fitting (learning) of the SVI model parameters as done in Notebook 9. \n",
    "If you wish to use yet another set of option prices (e.g. on another asset), this is also possible. In any case, provide the dataset together with your notebook.\n",
    "\n",
    "$\\blacktriangleright$ Try to take into account the no-arbitrage conditions within the parameter learning process (or at least, after the learning process).\n",
    "\n",
    "Explain in details the procedure you have followed, and present/discuss your results."
   ]
  },
  {
   "cell_type": "markdown",
   "id": "87cd985e",
   "metadata": {},
   "source": [
    "$\\blacktriangleright$ __New dataset__ : you can download delayed option quotes on the SP500 index from the [CBOE quotes platform](http://www.cboe.com/delayedquote/quote-table) (index symbol: SPX). \n",
    " \n",
    "$\\blacktriangleright$ __TO DO__: In a new notebook, download a new dataset of option prices for one of the available maturities (the standard maturities for SPX options being the third Friday of each month), filter out quotes that have zero volume, and perform a fitting (learning) of the SVI model parameters as done in Notebook 9. \n",
    "If you wish to use yet another set of option prices (e.g. on another asset), this is also possible. In any case, provide the dataset together with your notebook.\n"
   ]
  },
  {
   "cell_type": "code",
   "execution_count": 21,
   "id": "6e7f101e",
   "metadata": {},
   "outputs": [
    {
     "data": {
      "text/html": [
       "<div>\n",
       "<style scoped>\n",
       "    .dataframe tbody tr th:only-of-type {\n",
       "        vertical-align: middle;\n",
       "    }\n",
       "\n",
       "    .dataframe tbody tr th {\n",
       "        vertical-align: top;\n",
       "    }\n",
       "\n",
       "    .dataframe thead th {\n",
       "        text-align: right;\n",
       "    }\n",
       "</style>\n",
       "<table border=\"1\" class=\"dataframe\">\n",
       "  <thead>\n",
       "    <tr style=\"text-align: right;\">\n",
       "      <th></th>\n",
       "      <th>Expiration Date</th>\n",
       "      <th>Calls</th>\n",
       "      <th>Last Sale</th>\n",
       "      <th>Net</th>\n",
       "      <th>Bid</th>\n",
       "      <th>Ask</th>\n",
       "      <th>Volume</th>\n",
       "      <th>IV</th>\n",
       "      <th>Delta</th>\n",
       "      <th>Gamma</th>\n",
       "      <th>...</th>\n",
       "      <th>Puts</th>\n",
       "      <th>Last Sale.1</th>\n",
       "      <th>Net.1</th>\n",
       "      <th>Bid.1</th>\n",
       "      <th>Ask.1</th>\n",
       "      <th>Volume.1</th>\n",
       "      <th>IV.1</th>\n",
       "      <th>Delta.1</th>\n",
       "      <th>Gamma.1</th>\n",
       "      <th>Open Interest.1</th>\n",
       "    </tr>\n",
       "  </thead>\n",
       "  <tbody>\n",
       "    <tr>\n",
       "      <th>0</th>\n",
       "      <td>Fri Apr 19 2024</td>\n",
       "      <td>SPX240419C01900000</td>\n",
       "      <td>3252.29</td>\n",
       "      <td>-21.2599</td>\n",
       "      <td>3263.0</td>\n",
       "      <td>3270.3</td>\n",
       "      <td>1</td>\n",
       "      <td>0.0</td>\n",
       "      <td>1.0000</td>\n",
       "      <td>0.0</td>\n",
       "      <td>...</td>\n",
       "      <td>SPX240419P01900000</td>\n",
       "      <td>0.15</td>\n",
       "      <td>0.000</td>\n",
       "      <td>0.0</td>\n",
       "      <td>0.10</td>\n",
       "      <td>0</td>\n",
       "      <td>0.9307</td>\n",
       "      <td>-0.0002</td>\n",
       "      <td>0.0</td>\n",
       "      <td>5731</td>\n",
       "    </tr>\n",
       "    <tr>\n",
       "      <th>1</th>\n",
       "      <td>Fri Apr 19 2024</td>\n",
       "      <td>SPX240419C02000000</td>\n",
       "      <td>3160.06</td>\n",
       "      <td>-14.1401</td>\n",
       "      <td>3163.5</td>\n",
       "      <td>3170.9</td>\n",
       "      <td>1</td>\n",
       "      <td>0.0</td>\n",
       "      <td>1.0000</td>\n",
       "      <td>0.0</td>\n",
       "      <td>...</td>\n",
       "      <td>SPX240419P02000000</td>\n",
       "      <td>0.05</td>\n",
       "      <td>0.000</td>\n",
       "      <td>0.0</td>\n",
       "      <td>0.10</td>\n",
       "      <td>1</td>\n",
       "      <td>0.8845</td>\n",
       "      <td>-0.0002</td>\n",
       "      <td>0.0</td>\n",
       "      <td>5883</td>\n",
       "    </tr>\n",
       "    <tr>\n",
       "      <th>2</th>\n",
       "      <td>Fri Apr 19 2024</td>\n",
       "      <td>SPX240419C02200000</td>\n",
       "      <td>0.00</td>\n",
       "      <td>0.0000</td>\n",
       "      <td>2965.0</td>\n",
       "      <td>2972.3</td>\n",
       "      <td>0</td>\n",
       "      <td>0.0</td>\n",
       "      <td>1.0000</td>\n",
       "      <td>0.0</td>\n",
       "      <td>...</td>\n",
       "      <td>SPX240419P02200000</td>\n",
       "      <td>0.07</td>\n",
       "      <td>0.020</td>\n",
       "      <td>0.0</td>\n",
       "      <td>0.15</td>\n",
       "      <td>3</td>\n",
       "      <td>0.8214</td>\n",
       "      <td>-0.0003</td>\n",
       "      <td>0.0</td>\n",
       "      <td>4213</td>\n",
       "    </tr>\n",
       "    <tr>\n",
       "      <th>3</th>\n",
       "      <td>Fri Apr 19 2024</td>\n",
       "      <td>SPX240419C02300000</td>\n",
       "      <td>0.00</td>\n",
       "      <td>0.0000</td>\n",
       "      <td>2865.2</td>\n",
       "      <td>2872.5</td>\n",
       "      <td>0</td>\n",
       "      <td>0.0</td>\n",
       "      <td>1.0000</td>\n",
       "      <td>0.0</td>\n",
       "      <td>...</td>\n",
       "      <td>SPX240419P02300000</td>\n",
       "      <td>0.10</td>\n",
       "      <td>0.025</td>\n",
       "      <td>0.0</td>\n",
       "      <td>0.15</td>\n",
       "      <td>10</td>\n",
       "      <td>0.7805</td>\n",
       "      <td>-0.0004</td>\n",
       "      <td>0.0</td>\n",
       "      <td>5048</td>\n",
       "    </tr>\n",
       "    <tr>\n",
       "      <th>4</th>\n",
       "      <td>Fri Apr 19 2024</td>\n",
       "      <td>SPX240419C02350000</td>\n",
       "      <td>0.00</td>\n",
       "      <td>0.0000</td>\n",
       "      <td>2815.5</td>\n",
       "      <td>2822.8</td>\n",
       "      <td>0</td>\n",
       "      <td>0.0</td>\n",
       "      <td>0.9999</td>\n",
       "      <td>0.0</td>\n",
       "      <td>...</td>\n",
       "      <td>SPX240419P02350000</td>\n",
       "      <td>0.10</td>\n",
       "      <td>0.050</td>\n",
       "      <td>0.0</td>\n",
       "      <td>0.15</td>\n",
       "      <td>30</td>\n",
       "      <td>0.7607</td>\n",
       "      <td>-0.0004</td>\n",
       "      <td>0.0</td>\n",
       "      <td>1964</td>\n",
       "    </tr>\n",
       "  </tbody>\n",
       "</table>\n",
       "<p>5 rows × 22 columns</p>\n",
       "</div>"
      ],
      "text/plain": [
       "   Expiration Date               Calls  Last Sale      Net     Bid     Ask  \\\n",
       "0  Fri Apr 19 2024  SPX240419C01900000    3252.29 -21.2599  3263.0  3270.3   \n",
       "1  Fri Apr 19 2024  SPX240419C02000000    3160.06 -14.1401  3163.5  3170.9   \n",
       "2  Fri Apr 19 2024  SPX240419C02200000       0.00   0.0000  2965.0  2972.3   \n",
       "3  Fri Apr 19 2024  SPX240419C02300000       0.00   0.0000  2865.2  2872.5   \n",
       "4  Fri Apr 19 2024  SPX240419C02350000       0.00   0.0000  2815.5  2822.8   \n",
       "\n",
       "   Volume   IV   Delta  Gamma  ...                Puts  Last Sale.1  Net.1  \\\n",
       "0       1  0.0  1.0000    0.0  ...  SPX240419P01900000         0.15  0.000   \n",
       "1       1  0.0  1.0000    0.0  ...  SPX240419P02000000         0.05  0.000   \n",
       "2       0  0.0  1.0000    0.0  ...  SPX240419P02200000         0.07  0.020   \n",
       "3       0  0.0  1.0000    0.0  ...  SPX240419P02300000         0.10  0.025   \n",
       "4       0  0.0  0.9999    0.0  ...  SPX240419P02350000         0.10  0.050   \n",
       "\n",
       "   Bid.1  Ask.1  Volume.1    IV.1  Delta.1  Gamma.1  Open Interest.1  \n",
       "0    0.0   0.10         0  0.9307  -0.0002      0.0             5731  \n",
       "1    0.0   0.10         1  0.8845  -0.0002      0.0             5883  \n",
       "2    0.0   0.15         3  0.8214  -0.0003      0.0             4213  \n",
       "3    0.0   0.15        10  0.7805  -0.0004      0.0             5048  \n",
       "4    0.0   0.15        30  0.7607  -0.0004      0.0             1964  \n",
       "\n",
       "[5 rows x 22 columns]"
      ]
     },
     "execution_count": 21,
     "metadata": {},
     "output_type": "execute_result"
    }
   ],
   "source": [
    "df = pd.read_csv('spx_quotedata.csv', skiprows=2)\n",
    "\n",
    "df.head()"
   ]
  },
  {
   "cell_type": "code",
   "execution_count": 22,
   "id": "1b432add",
   "metadata": {},
   "outputs": [
    {
     "data": {
      "text/html": [
       "<div>\n",
       "<style scoped>\n",
       "    .dataframe tbody tr th:only-of-type {\n",
       "        vertical-align: middle;\n",
       "    }\n",
       "\n",
       "    .dataframe tbody tr th {\n",
       "        vertical-align: top;\n",
       "    }\n",
       "\n",
       "    .dataframe thead th {\n",
       "        text-align: right;\n",
       "    }\n",
       "</style>\n",
       "<table border=\"1\" class=\"dataframe\">\n",
       "  <thead>\n",
       "    <tr style=\"text-align: right;\">\n",
       "      <th></th>\n",
       "      <th>Last Sale</th>\n",
       "      <th>Net</th>\n",
       "      <th>Bid</th>\n",
       "      <th>Ask</th>\n",
       "      <th>Volume</th>\n",
       "      <th>IV</th>\n",
       "      <th>Delta</th>\n",
       "      <th>Gamma</th>\n",
       "      <th>Open Interest</th>\n",
       "      <th>Strike</th>\n",
       "      <th>Last Sale.1</th>\n",
       "      <th>Net.1</th>\n",
       "      <th>Bid.1</th>\n",
       "      <th>Ask.1</th>\n",
       "      <th>Volume.1</th>\n",
       "      <th>IV.1</th>\n",
       "      <th>Delta.1</th>\n",
       "      <th>Gamma.1</th>\n",
       "      <th>Open Interest.1</th>\n",
       "    </tr>\n",
       "  </thead>\n",
       "  <tbody>\n",
       "    <tr>\n",
       "      <th>0</th>\n",
       "      <td>3252.29</td>\n",
       "      <td>-21.2599</td>\n",
       "      <td>3263.0</td>\n",
       "      <td>3270.3</td>\n",
       "      <td>1</td>\n",
       "      <td>0.0</td>\n",
       "      <td>1.0000</td>\n",
       "      <td>0.0</td>\n",
       "      <td>2</td>\n",
       "      <td>1900.0</td>\n",
       "      <td>0.15</td>\n",
       "      <td>0.000</td>\n",
       "      <td>0.0</td>\n",
       "      <td>0.10</td>\n",
       "      <td>0</td>\n",
       "      <td>0.9307</td>\n",
       "      <td>-0.0002</td>\n",
       "      <td>0.0</td>\n",
       "      <td>5731</td>\n",
       "    </tr>\n",
       "    <tr>\n",
       "      <th>1</th>\n",
       "      <td>3160.06</td>\n",
       "      <td>-14.1401</td>\n",
       "      <td>3163.5</td>\n",
       "      <td>3170.9</td>\n",
       "      <td>1</td>\n",
       "      <td>0.0</td>\n",
       "      <td>1.0000</td>\n",
       "      <td>0.0</td>\n",
       "      <td>51</td>\n",
       "      <td>2000.0</td>\n",
       "      <td>0.05</td>\n",
       "      <td>0.000</td>\n",
       "      <td>0.0</td>\n",
       "      <td>0.10</td>\n",
       "      <td>1</td>\n",
       "      <td>0.8845</td>\n",
       "      <td>-0.0002</td>\n",
       "      <td>0.0</td>\n",
       "      <td>5883</td>\n",
       "    </tr>\n",
       "    <tr>\n",
       "      <th>2</th>\n",
       "      <td>0.00</td>\n",
       "      <td>0.0000</td>\n",
       "      <td>2965.0</td>\n",
       "      <td>2972.3</td>\n",
       "      <td>0</td>\n",
       "      <td>0.0</td>\n",
       "      <td>1.0000</td>\n",
       "      <td>0.0</td>\n",
       "      <td>0</td>\n",
       "      <td>2200.0</td>\n",
       "      <td>0.07</td>\n",
       "      <td>0.020</td>\n",
       "      <td>0.0</td>\n",
       "      <td>0.15</td>\n",
       "      <td>3</td>\n",
       "      <td>0.8214</td>\n",
       "      <td>-0.0003</td>\n",
       "      <td>0.0</td>\n",
       "      <td>4213</td>\n",
       "    </tr>\n",
       "    <tr>\n",
       "      <th>3</th>\n",
       "      <td>0.00</td>\n",
       "      <td>0.0000</td>\n",
       "      <td>2865.2</td>\n",
       "      <td>2872.5</td>\n",
       "      <td>0</td>\n",
       "      <td>0.0</td>\n",
       "      <td>1.0000</td>\n",
       "      <td>0.0</td>\n",
       "      <td>0</td>\n",
       "      <td>2300.0</td>\n",
       "      <td>0.10</td>\n",
       "      <td>0.025</td>\n",
       "      <td>0.0</td>\n",
       "      <td>0.15</td>\n",
       "      <td>10</td>\n",
       "      <td>0.7805</td>\n",
       "      <td>-0.0004</td>\n",
       "      <td>0.0</td>\n",
       "      <td>5048</td>\n",
       "    </tr>\n",
       "    <tr>\n",
       "      <th>4</th>\n",
       "      <td>0.00</td>\n",
       "      <td>0.0000</td>\n",
       "      <td>2815.5</td>\n",
       "      <td>2822.8</td>\n",
       "      <td>0</td>\n",
       "      <td>0.0</td>\n",
       "      <td>0.9999</td>\n",
       "      <td>0.0</td>\n",
       "      <td>0</td>\n",
       "      <td>2350.0</td>\n",
       "      <td>0.10</td>\n",
       "      <td>0.050</td>\n",
       "      <td>0.0</td>\n",
       "      <td>0.15</td>\n",
       "      <td>30</td>\n",
       "      <td>0.7607</td>\n",
       "      <td>-0.0004</td>\n",
       "      <td>0.0</td>\n",
       "      <td>1964</td>\n",
       "    </tr>\n",
       "  </tbody>\n",
       "</table>\n",
       "</div>"
      ],
      "text/plain": [
       "   Last Sale      Net     Bid     Ask  Volume   IV   Delta  Gamma  \\\n",
       "0    3252.29 -21.2599  3263.0  3270.3       1  0.0  1.0000    0.0   \n",
       "1    3160.06 -14.1401  3163.5  3170.9       1  0.0  1.0000    0.0   \n",
       "2       0.00   0.0000  2965.0  2972.3       0  0.0  1.0000    0.0   \n",
       "3       0.00   0.0000  2865.2  2872.5       0  0.0  1.0000    0.0   \n",
       "4       0.00   0.0000  2815.5  2822.8       0  0.0  0.9999    0.0   \n",
       "\n",
       "   Open Interest  Strike  Last Sale.1  Net.1  Bid.1  Ask.1  Volume.1    IV.1  \\\n",
       "0              2  1900.0         0.15  0.000    0.0   0.10         0  0.9307   \n",
       "1             51  2000.0         0.05  0.000    0.0   0.10         1  0.8845   \n",
       "2              0  2200.0         0.07  0.020    0.0   0.15         3  0.8214   \n",
       "3              0  2300.0         0.10  0.025    0.0   0.15        10  0.7805   \n",
       "4              0  2350.0         0.10  0.050    0.0   0.15        30  0.7607   \n",
       "\n",
       "   Delta.1  Gamma.1  Open Interest.1  \n",
       "0  -0.0002      0.0             5731  \n",
       "1  -0.0002      0.0             5883  \n",
       "2  -0.0003      0.0             4213  \n",
       "3  -0.0004      0.0             5048  \n",
       "4  -0.0004      0.0             1964  "
      ]
     },
     "execution_count": 22,
     "metadata": {},
     "output_type": "execute_result"
    }
   ],
   "source": [
    "df.drop(columns=['Expiration Date', 'Calls', 'Puts'], inplace=True)\n",
    "df.head()"
   ]
  },
  {
   "cell_type": "markdown",
   "id": "8d4020b4",
   "metadata": {},
   "source": [
    "Convert the DataFrame to a numpy array"
   ]
  },
  {
   "cell_type": "code",
   "execution_count": 23,
   "id": "41d5a845",
   "metadata": {},
   "outputs": [],
   "source": [
    "quotes = df.to_numpy()"
   ]
  },
  {
   "cell_type": "code",
   "execution_count": 25,
   "id": "c1874c70",
   "metadata": {},
   "outputs": [
    {
     "name": "stdout",
     "output_type": "stream",
     "text": [
      "quotes.shape : (280, 19)\n",
      "\n",
      " Strikes:  [1900. 2000. 2200. 2300. 2350. 2400. 2450. 2800. 2825. 2850. 2875. 2900.\n",
      " 2925. 2950. 2975. 3000. 3025. 3050. 3075. 3100. 3125. 3150. 3175. 3200.\n",
      " 3225. 3250. 3275. 3300. 3325. 3350. 3375. 3400. 3425. 3450. 3475. 3500.\n",
      " 3525. 3550. 3560. 3575. 3580. 3600. 3625. 3650. 3660. 3675. 3700. 3725.\n",
      " 3750. 3775. 3790. 3800. 3825. 3850. 3875. 3900. 3925. 3950. 3975. 4000.\n",
      " 4025. 4030. 4040. 4050. 4060. 4075. 4090. 4100. 4125. 4140. 4150. 4160.\n",
      " 4175. 4180. 4190. 4200. 4225. 4240. 4250. 4260. 4275. 4280. 4290. 4300.\n",
      " 4310. 4325. 4330. 4350. 4360. 4375. 4380. 4400. 4420. 4425. 4430. 4440.\n",
      " 4450. 4455. 4460. 4475. 4480. 4490. 4495. 4500. 4510. 4520. 4525. 4530.\n",
      " 4535. 4540. 4550. 4555. 4560. 4565. 4570. 4575. 4580. 4585. 4590. 4600.\n",
      " 4605. 4610. 4615. 4620. 4625. 4640. 4650. 4655. 4660. 4675. 4680. 4685.\n",
      " 4690. 4700. 4705. 4715. 4725. 4730. 4740. 4745. 4750. 4755. 4760. 4765.\n",
      " 4770. 4775. 4780. 4790. 4800. 4805. 4810. 4820. 4825. 4830. 4835. 4840.\n",
      " 4845. 4850. 4855. 4860. 4870. 4875. 4880. 4885. 4890. 4895. 4900. 4905.\n",
      " 4910. 4915. 4920. 4925. 4930. 4935. 4940. 4945. 4950. 4955. 4960. 4965.\n",
      " 4970. 4975. 4980. 4990. 4995. 5000. 5005. 5010. 5015. 5020. 5025. 5030.\n",
      " 5035. 5040. 5045. 5050. 5055. 5060. 5065. 5070. 5075. 5080. 5085. 5090.\n",
      " 5095. 5100. 5105. 5110. 5115. 5120. 5125. 5130. 5135. 5140. 5145. 5150.\n",
      " 5155. 5160. 5165. 5170. 5175. 5180. 5185. 5190. 5195. 5200. 5205. 5210.\n",
      " 5215. 5220. 5225. 5230. 5235. 5240. 5245. 5250. 5255. 5260. 5270. 5275.\n",
      " 5280. 5285. 5290. 5295. 5300. 5305. 5310. 5315. 5320. 5325. 5330. 5340.\n",
      " 5350. 5360. 5370. 5375. 5380. 5390. 5400. 5410. 5420. 5425. 5430. 5440.\n",
      " 5450. 5470. 5480. 5490. 5500. 5520. 5525. 5550. 5575. 5600. 5625. 5650.\n",
      " 5700. 5725. 5750. 6000.]\n",
      "Call prices:  [3.26665e+03 3.16720e+03 2.96865e+03 2.86885e+03 2.81915e+03 2.76945e+03\n",
      " 2.71975e+03 2.37175e+03 2.34690e+03 2.32205e+03 2.29720e+03 2.27235e+03\n",
      " 2.24750e+03 2.22265e+03 2.19815e+03 2.17295e+03 2.14845e+03 2.12325e+03\n",
      " 2.09840e+03 2.07355e+03 2.04870e+03 2.02385e+03 1.99900e+03 1.97415e+03\n",
      " 1.94930e+03 1.92445e+03 1.89995e+03 1.87475e+03 1.84995e+03 1.82510e+03\n",
      " 1.80025e+03 1.77575e+03 1.75055e+03 1.72575e+03 1.70090e+03 1.67605e+03\n",
      " 1.65125e+03 1.62675e+03 1.61645e+03 1.60155e+03 1.59695e+03 1.57675e+03\n",
      " 1.55195e+03 1.52710e+03 1.51715e+03 1.50225e+03 1.47745e+03 1.45265e+03\n",
      " 1.42785e+03 1.40335e+03 1.38815e+03 1.37820e+03 1.35340e+03 1.32855e+03\n",
      " 1.30375e+03 1.27895e+03 1.25415e+03 1.22935e+03 1.20455e+03 1.17980e+03\n",
      " 1.15500e+03 1.15005e+03 1.14015e+03 1.13055e+03 1.12030e+03 1.10545e+03\n",
      " 1.09055e+03 1.08065e+03 1.05585e+03 1.04135e+03 1.03110e+03 1.02120e+03\n",
      " 1.00635e+03 1.00140e+03 9.91500e+02 9.81600e+02 9.56850e+02 9.41950e+02\n",
      " 9.32050e+02 9.22200e+02 9.07350e+02 9.02400e+02 8.92500e+02 8.82600e+02\n",
      " 8.72700e+02 8.57850e+02 8.52950e+02 8.33150e+02 8.23250e+02 8.08450e+02\n",
      " 8.03500e+02 7.83750e+02 7.64000e+02 7.59050e+02 7.54100e+02 7.44250e+02\n",
      " 7.34350e+02 7.29450e+02 7.24500e+02 7.09700e+02 7.04750e+02 6.94950e+02\n",
      " 6.90000e+02 6.85050e+02 6.75550e+02 6.65350e+02 6.60450e+02 6.55550e+02\n",
      " 6.50600e+02 6.45650e+02 6.35850e+02 6.30950e+02 6.26000e+02 6.21100e+02\n",
      " 6.16150e+02 6.11250e+02 6.06350e+02 6.01450e+02 5.96550e+02 5.86750e+02\n",
      " 5.82150e+02 5.76900e+02 5.72000e+02 5.67100e+02 5.62200e+02 5.47550e+02\n",
      " 5.37750e+02 5.32850e+02 5.27950e+02 5.13300e+02 5.08450e+02 5.03550e+02\n",
      " 4.98650e+02 4.88950e+02 4.84050e+02 4.74350e+02 4.64650e+02 4.59750e+02\n",
      " 4.50050e+02 4.45250e+02 4.40400e+02 4.35550e+02 4.30750e+02 4.25900e+02\n",
      " 4.21100e+02 4.16250e+02 4.11450e+02 4.01850e+02 3.92250e+02 3.87450e+02\n",
      " 3.82650e+02 3.73150e+02 3.68350e+02 3.63650e+02 3.58850e+02 3.54150e+02\n",
      " 3.49400e+02 3.45100e+02 3.39950e+02 3.35250e+02 3.25850e+02 3.21150e+02\n",
      " 3.16500e+02 3.11850e+02 3.07150e+02 3.02550e+02 2.98300e+02 2.93300e+02\n",
      " 2.88650e+02 2.84100e+02 2.79550e+02 2.74950e+02 2.70400e+02 2.65850e+02\n",
      " 2.61350e+02 2.56850e+02 2.52650e+02 2.47850e+02 2.43450e+02 2.38950e+02\n",
      " 2.34550e+02 2.30150e+02 2.25750e+02 2.17050e+02 2.13100e+02 2.08800e+02\n",
      " 2.04500e+02 2.00300e+02 1.95800e+02 1.91900e+02 1.87700e+02 1.83600e+02\n",
      " 1.79500e+02 1.75100e+02 1.71050e+02 1.67300e+02 1.63100e+02 1.59200e+02\n",
      " 1.55200e+02 1.51450e+02 1.47500e+02 1.43700e+02 1.40050e+02 1.36250e+02\n",
      " 1.32650e+02 1.29200e+02 1.25350e+02 1.21800e+02 1.18250e+02 1.14850e+02\n",
      " 1.11450e+02 1.08050e+02 1.04750e+02 1.01700e+02 9.83000e+01 9.53500e+01\n",
      " 9.23500e+01 8.93000e+01 8.63500e+01 8.32500e+01 8.03500e+01 7.75000e+01\n",
      " 7.47500e+01 7.20500e+01 6.94000e+01 6.68500e+01 6.43500e+01 6.18500e+01\n",
      " 5.94500e+01 5.70500e+01 5.47500e+01 5.25500e+01 5.04000e+01 4.83000e+01\n",
      " 4.62500e+01 4.43000e+01 4.23500e+01 4.05000e+01 3.69000e+01 3.52500e+01\n",
      " 3.36000e+01 3.20000e+01 3.05000e+01 2.90000e+01 2.76000e+01 2.62000e+01\n",
      " 2.49000e+01 2.36000e+01 2.24000e+01 2.12000e+01 2.01500e+01 1.80000e+01\n",
      " 1.60500e+01 1.43500e+01 1.27000e+01 1.19500e+01 1.12500e+01 9.95000e+00\n",
      " 8.75000e+00 7.70000e+00 6.75000e+00 6.30000e+00 5.90000e+00 5.15000e+00\n",
      " 4.55000e+00 3.45000e+00 2.97500e+00 2.60000e+00 2.25000e+00 1.70000e+00\n",
      " 1.60000e+00 1.15000e+00 8.50000e-01 6.25000e-01 4.75000e-01 3.75000e-01\n",
      " 2.50000e-01 2.00000e-01 1.75000e-01 5.00000e-02]\n",
      "Put prices:  [5.0000e-02 5.0000e-02 7.5000e-02 7.5000e-02 7.5000e-02 1.0000e-01\n",
      " 1.0000e-01 2.0000e-01 2.0000e-01 2.2500e-01 2.2500e-01 2.5000e-01\n",
      " 2.5000e-01 2.5000e-01 2.7500e-01 3.0000e-01 3.0000e-01 3.0000e-01\n",
      " 3.5000e-01 3.5000e-01 3.5000e-01 4.0000e-01 4.0000e-01 4.0000e-01\n",
      " 4.5000e-01 4.5000e-01 4.5000e-01 5.0000e-01 5.0000e-01 5.5000e-01\n",
      " 5.5000e-01 5.7500e-01 6.0000e-01 6.2500e-01 6.5000e-01 6.7500e-01\n",
      " 7.0000e-01 7.2500e-01 7.5000e-01 7.7500e-01 7.7500e-01 8.0000e-01\n",
      " 8.2500e-01 8.7500e-01 8.7500e-01 9.0000e-01 9.2500e-01 9.7500e-01\n",
      " 1.0250e+00 1.0500e+00 1.0750e+00 1.0750e+00 1.1500e+00 1.2250e+00\n",
      " 1.2750e+00 1.3250e+00 1.3750e+00 1.4500e+00 1.5250e+00 1.6000e+00\n",
      " 1.6750e+00 1.7000e+00 1.7250e+00 1.7500e+00 1.7750e+00 1.8250e+00\n",
      " 1.8750e+00 1.9250e+00 2.0250e+00 2.0750e+00 2.1250e+00 2.1500e+00\n",
      " 2.2000e+00 2.2250e+00 2.2750e+00 2.3000e+00 2.4250e+00 2.4750e+00\n",
      " 2.5250e+00 2.5750e+00 2.6500e+00 2.6750e+00 2.7000e+00 2.7500e+00\n",
      " 2.8000e+00 2.9000e+00 2.9250e+00 3.0750e+00 3.1000e+00 3.2000e+00\n",
      " 3.2000e+00 3.3500e+00 3.4500e+00 3.5000e+00 3.5500e+00 3.6000e+00\n",
      " 3.7000e+00 3.7000e+00 3.7500e+00 3.9000e+00 3.9000e+00 4.0000e+00\n",
      " 4.0500e+00 4.1000e+00 4.2000e+00 4.3000e+00 4.3500e+00 4.4000e+00\n",
      " 4.4500e+00 4.5000e+00 4.6000e+00 4.6500e+00 4.7000e+00 4.7500e+00\n",
      " 4.8000e+00 4.8500e+00 4.9500e+00 5.0000e+00 5.0500e+00 5.2000e+00\n",
      " 5.2500e+00 5.3500e+00 5.4000e+00 5.4500e+00 5.5500e+00 5.7500e+00\n",
      " 5.9500e+00 6.0000e+00 6.1000e+00 6.3500e+00 6.4500e+00 6.5500e+00\n",
      " 6.6500e+00 6.8500e+00 6.9500e+00 7.1500e+00 7.4000e+00 7.5500e+00\n",
      " 7.7500e+00 7.9000e+00 8.0500e+00 8.1500e+00 8.3500e+00 8.4500e+00\n",
      " 8.6000e+00 8.7500e+00 8.9000e+00 9.2500e+00 9.6000e+00 9.7500e+00\n",
      " 9.9500e+00 1.0350e+01 1.0550e+01 1.0750e+01 1.1000e+01 1.1250e+01\n",
      " 1.1450e+01 1.1750e+01 1.1950e+01 1.2250e+01 1.2750e+01 1.3050e+01\n",
      " 1.3400e+01 1.3700e+01 1.4000e+01 1.4300e+01 1.4650e+01 1.5000e+01\n",
      " 1.5400e+01 1.5750e+01 1.6150e+01 1.6550e+01 1.6950e+01 1.7400e+01\n",
      " 1.7850e+01 1.8300e+01 1.8800e+01 1.9250e+01 1.9800e+01 2.0350e+01\n",
      " 2.0850e+01 2.1450e+01 2.2050e+01 2.3300e+01 2.3950e+01 2.4650e+01\n",
      " 2.5350e+01 2.6100e+01 2.6800e+01 2.7600e+01 2.8400e+01 2.9300e+01\n",
      " 3.0100e+01 3.1000e+01 3.1950e+01 3.2900e+01 3.3900e+01 3.4950e+01\n",
      " 3.6000e+01 3.7100e+01 3.8250e+01 3.9450e+01 4.0650e+01 4.1900e+01\n",
      " 4.3200e+01 4.4550e+01 4.5900e+01 4.7350e+01 4.8800e+01 5.0350e+01\n",
      " 5.1850e+01 5.3550e+01 5.5200e+01 5.6900e+01 5.8700e+01 6.0400e+01\n",
      " 6.2400e+01 6.4300e+01 6.6300e+01 6.8350e+01 7.0300e+01 7.2750e+01\n",
      " 7.4950e+01 7.7250e+01 7.9550e+01 8.1700e+01 8.4100e+01 8.6600e+01\n",
      " 8.9200e+01 9.1800e+01 9.4500e+01 9.7200e+01 1.0010e+02 1.0295e+02\n",
      " 1.0590e+02 1.0890e+02 1.1195e+02 1.1505e+02 1.2145e+02 1.2475e+02\n",
      " 1.2810e+02 1.3150e+02 1.3485e+02 1.3880e+02 1.4210e+02 1.4570e+02\n",
      " 1.4930e+02 1.5300e+02 1.5680e+02 1.6060e+02 1.6440e+02 1.7230e+02\n",
      " 1.8030e+02 1.8850e+02 1.9680e+02 2.0100e+02 2.0530e+02 2.1390e+02\n",
      " 2.2295e+02 2.3185e+02 2.4085e+02 2.4535e+02 2.4995e+02 2.5915e+02\n",
      " 2.6845e+02 2.8725e+02 2.9675e+02 3.0595e+02 3.1590e+02 3.3525e+02\n",
      " 3.4010e+02 3.6415e+02 3.8905e+02 4.1365e+02 4.3835e+02 4.6315e+02\n",
      " 5.1275e+02 5.3755e+02 5.6205e+02 8.1090e+02] \n",
      "\n",
      "Maturity (in years): 0.096\n"
     ]
    }
   ],
   "source": [
    "strikes = quotes[:, 9]\n",
    "\n",
    "call_bid = quotes[:, 2]\n",
    "call_ask = quotes[:, 3]\n",
    "\n",
    "put_bid = quotes[:, 12]\n",
    "put_ask = quotes[:, 13]\n",
    "\n",
    "# Evaluate the call and put mid prices that we \n",
    "# will use as reference prices\n",
    "call_prices = (call_bid + call_ask) / 2\n",
    "put_prices = (put_bid + put_ask) / 2\n",
    "\n",
    "# Observation date: Mar 15, 2024\n",
    "# Expiration Date : Fri Apr 19, 2024\n",
    "# ---> time to maturity = 35 days\n",
    "maturity = 35/365\n",
    "\n",
    "print(\"quotes.shape :\", quotes.shape)\n",
    "print(\"\\n Strikes: \", strikes)\n",
    "print(\"Call prices: \", call_prices)\n",
    "print(\"Put prices: \", put_prices, \"\\n\")\n",
    "\n",
    "print(\"Maturity (in years): %1.3f\" %maturity)"
   ]
  },
  {
   "cell_type": "markdown",
   "id": "0d932865",
   "metadata": {},
   "source": [
    "Let us have a look at the price quotes"
   ]
  },
  {
   "cell_type": "code",
   "execution_count": 26,
   "id": "9468e35b",
   "metadata": {},
   "outputs": [
    {
     "data": {
      "image/png": "[encoded data removed]",
      "text/plain": [
       "<Figure size 640x480 with 1 Axes>"
      ]
     },
     "metadata": {},
     "output_type": "display_data"
    }
   ],
   "source": [
    "plt.plot(strikes, call_ask, color='royalblue', linewidth=0., marker=\"v\", label=\"Call ask\")\n",
    "plt.plot(strikes, call_bid, color='lightblue', linewidth=0., marker=\"^\", label=\"Call bid\")\n",
    "\n",
    "plt.plot(strikes, put_ask, color='firebrick', linewidth=0., marker=\"v\", label=\"Put ask\")\n",
    "plt.plot(strikes, put_bid, color='lightcoral', linewidth=0., marker=\"^\", label=\"Put bid\")\n",
    "\n",
    "plt.xlabel(\"strike $K$\", fontsize=12)\n",
    "plt.ylabel(\"option price\", fontsize=12)\n",
    "plt.title(\"Call and Put option prices\", fontsize=16)\n",
    "\n",
    "plt.legend(loc=9, fontsize=14, bbox_to_anchor=(1.2, 1.0), ncol=1)\n",
    "plt.show()"
   ]
  },
  {
   "cell_type": "markdown",
   "id": "2015d961",
   "metadata": {},
   "source": [
    "Let's perform a linear regression so to determine the discount factor and the forward value\n",
    "\n",
    "We determine the slope $b$ and the intercept $a$ of the linear function that best interpolates the values of $\\mathrm{Call}(K) - \\mathrm{Put}(K)$:\n",
    "\n",
    "$$\n",
    "\\mathrm{Call}(K) - \\mathrm{Put}(K) \\approx f(K) = a + b \\, K.\n",
    "$$\n",
    "\n",
    "This gives a way of setting the discount factor and the forward for the maturity $T$ we are working with:\n",
    "\n",
    "$$\n",
    "D(0,T) = e^{-rT} \\quad \\text{and} \\quad F_0^T = \\frac{-a}{b} \\quad \\text{(in terms of $a$ and $b$)}\n",
    "$$\n"
   ]
  },
  {
   "cell_type": "code",
   "execution_count": 27,
   "id": "58299d38",
   "metadata": {},
   "outputs": [],
   "source": [
    "import scipy.stats as sps"
   ]
  },
  {
   "cell_type": "markdown",
   "id": "d41c5486",
   "metadata": {},
   "source": [
    "function linregress of scipy.stats to regress the values of  Call(K) - Put(K) against the strikes "
   ]
  },
  {
   "cell_type": "code",
   "execution_count": 34,
   "id": "91fa0675",
   "metadata": {},
   "outputs": [
    {
     "name": "stdout",
     "output_type": "stream",
     "text": [
      "Slope = -0.994\n",
      "Intercept =: 5155.95\n",
      "Correlation coefficient = -0.999999983699 \n",
      "\n"
     ]
    }
   ],
   "source": [
    "call_minus_put = call_prices - put_prices\n",
    "\n",
    "(slope, intercept, rvalue, other_value1, other_value2) = sps.linregress(strikes, call_minus_put)\n",
    "\n",
    "\n",
    "print(\"Slope = %1.3f\" %slope)\n",
    "print(\"Intercept =: %1.2f\" %intercept)\n",
    "print(\"Correlation coefficient = %1.12f \\n\" %rvalue)"
   ]
  },
  {
   "cell_type": "code",
   "execution_count": 35,
   "id": "311e234a",
   "metadata": {},
   "outputs": [
    {
     "name": "stdout",
     "output_type": "stream",
     "text": [
      "Therefore: \n",
      "\n",
      "D(0,T) = 0.994\n",
      "Forward value F_T = 5184.85\n"
     ]
    }
   ],
   "source": [
    "discount_factor = -slope\n",
    "\n",
    "F_T = intercept / discount_factor\n",
    "\n",
    "print(\"Therefore: \\n\")\n",
    "print(\"D(0,T) = %1.3f\" %discount_factor)\n",
    "print(\"Forward value F_T = %1.2f\" %F_T)"
   ]
  },
  {
   "cell_type": "markdown",
   "id": "695baec0",
   "metadata": {},
   "source": [
    "We are now in a good position to evaluate the implied volatility associated with option prices. Recall that the market implied volatility, $\\sigma(T,K)$, for a given maturity $T$ and strike price $K$, is the unique solution to the equation:\n",
    "\n",
    "$$\n",
    "\\text{Call}^{\\text{mkt}}(T,K) = \\text{Call}_{\\text{BS}}(T, K, F_0^T, D(0,T), \\sigma(T,K)),\n",
    "$$\n",
    "\n",
    "where $\\text{Call}_{\\text{BS}}(T, K, F, D, \\sigma)$ denotes the call price as determined by the Black-Scholes formula for a maturity $T$, a strike price $K$, a forward value $F$, a discount factor $D = e^{-rT}$, and a volatility $\\sigma$.\n",
    "\n",
    "In this framework, the market implied volatility is crucial for capturing the expected fluctuations in the option's underlying asset price over time. It is derived by equating the market-observed call price, $\\text{Call}^{\\text{mkt}}(T,K)$, with the theoretical call price from the Black-Scholes model, $\\text{Call}_{\\text{BS}}$, given the existing parameters and the sought-after volatility $\\sigma(T,K)$. This calculation offers valuable insights into the market's perceptions and the pricing dynamics of financial derivatives.\n"
   ]
  },
  {
   "cell_type": "code",
   "execution_count": 36,
   "id": "2260f2e3",
   "metadata": {},
   "outputs": [],
   "source": [
    "from BlackScholesFunctions import Put_BS_core, volImplCore_Newton, volImplPutCore_bisection"
   ]
  },
  {
   "cell_type": "markdown",
   "id": "bdd27ba4",
   "metadata": {},
   "source": [
    "Implied vol from puts"
   ]
  },
  {
   "cell_type": "code",
   "execution_count": 37,
   "id": "be6fbb49",
   "metadata": {},
   "outputs": [
    {
     "name": "stderr",
     "output_type": "stream",
     "text": [
      "c:\\Users\\mdale\\Desktop\\Ecole Polytechnique\\Numerical process of financial data\\Project_info\\BlackScholesFunctions.py:115: RuntimeWarning: divide by zero encountered in scalar divide\n",
      "  vol = vol - (current_price - price) / Vega_core(tau, K, DF, F, vol)\n",
      "c:\\Users\\mdale\\Desktop\\Ecole Polytechnique\\Numerical process of financial data\\Project_info\\BlackScholesFunctions.py:20: RuntimeWarning: invalid value encountered in scalar subtract\n",
      "  d_2 = d_1 - sigma_sqrt_tau\n",
      "c:\\Users\\mdale\\Desktop\\Ecole Polytechnique\\Numerical process of financial data\\Project_info\\BlackScholesFunctions.py:73: RuntimeWarning: overflow encountered in scalar power\n",
      "  vega = DF * F * np.sqrt(tau) * np.exp(-d_1**2 / 2) / np.sqrt(2*np.pi)\n"
     ]
    },
    {
     "name": "stdout",
     "output_type": "stream",
     "text": [
      "Done\n"
     ]
    }
   ],
   "source": [
    "vols_puts = np.zeros(strikes.size)\n",
    "\n",
    "for i in range(strikes.size):\n",
    "    K = strikes[i]\n",
    "    \n",
    "    vol, iterations = volImplCore_Newton(tau = maturity, K = K, DF = discount_factor, F = F_T,\n",
    "                                            price = put_prices[i], # mid prices for puts\n",
    "                                            CallOrPutFlag = 0,\n",
    "                                            initial_point = 0.2, prix_tol = 1.e-4, max_iter=50)\n",
    "    \n",
    "    vols_puts[i] = vol\n",
    "\n",
    "\n",
    "print(\"Done\")"
   ]
  },
  {
   "cell_type": "markdown",
   "id": "13ae9a64",
   "metadata": {},
   "source": [
    "Implied vol from calls"
   ]
  },
  {
   "cell_type": "code",
   "execution_count": 38,
   "id": "e5a3a85a",
   "metadata": {},
   "outputs": [
    {
     "name": "stderr",
     "output_type": "stream",
     "text": [
      "c:\\Users\\mdale\\Desktop\\Ecole Polytechnique\\Numerical process of financial data\\Project_info\\BlackScholesFunctions.py:41: RuntimeWarning: invalid value encountered in scalar subtract\n",
      "  d_2 = d_1 - sigma_sqrt_tau\n"
     ]
    },
    {
     "name": "stdout",
     "output_type": "stream",
     "text": [
      "Done\n"
     ]
    }
   ],
   "source": [
    "vols_calls = np.zeros(strikes.size)\n",
    "\n",
    "for i in range(strikes.size):\n",
    "    K = strikes[i]\n",
    "    \n",
    "    vol, iterations = volImplCore_Newton(tau = maturity, K = K, DF = discount_factor, F = F_T,\n",
    "                                            price = call_prices[i], # mid prices for calls\n",
    "                                            CallOrPutFlag = 1,\n",
    "                                            initial_point = 0.2, prix_tol = 1.e-4, max_iter=50)\n",
    "    \n",
    "    vols_calls[i] = vol\n",
    "\n",
    "print(\"Done\")"
   ]
  },
  {
   "cell_type": "markdown",
   "id": "ca72220c",
   "metadata": {},
   "source": [
    "Let's plot the resulting smile in terms of the log-forward moneyness $k = \\log(K / F_0^T)$:"
   ]
  },
  {
   "cell_type": "code",
   "execution_count": 40,
   "id": "eb3b2ec2",
   "metadata": {},
   "outputs": [
    {
     "data": {
      "text/plain": [
       "<matplotlib.legend.Legend at 0x2df66a55f50>"
      ]
     },
     "execution_count": 40,
     "metadata": {},
     "output_type": "execute_result"
    },
    {
     "data": {
      "image/png": "[encoded data removed]",
      "text/plain": [
       "<Figure size 900x600 with 1 Axes>"
      ]
     },
     "metadata": {},
     "output_type": "display_data"
    }
   ],
   "source": [
    "plt.figure(figsize=(9,6))\n",
    "\n",
    "mkt_log_mon = np.log(strikes/F_T)\n",
    "\n",
    "plt.plot(mkt_log_mon, vols_puts ,\n",
    "         color='indianred', linewidth=0., marker=\".\", markersize=12, label=\"Implied vol puts\")\n",
    "\n",
    "plt.plot(mkt_log_mon, vols_calls ,\n",
    "         color='royalblue', linewidth=0., marker=\"+\", markersize=14, label=\"Implied vol calls\")\n",
    "\n",
    "plt.xlabel(r\"log-forward moneyness $k$\", fontsize=12)\n",
    "plt.ylabel(\"Implied vol\", fontsize=12)\n",
    "plt.title(\"Implied vol from call and put prices\", fontsize=14)\n",
    "\n",
    "plt.legend(loc=9, fontsize=13, bbox_to_anchor=(1.2, 1.0), ncol=1)"
   ]
  },
  {
   "cell_type": "markdown",
   "id": "93221951",
   "metadata": {},
   "source": [
    "Let's save all in a file to have the times aligned and to remove the nan values"
   ]
  },
  {
   "cell_type": "code",
   "execution_count": 41,
   "id": "9758df07",
   "metadata": {},
   "outputs": [],
   "source": [
    "vol_data = np.array([mkt_log_mon, vols_calls])\n",
    "\n",
    "valid_mask = ~np.isnan(vol_data).any(axis=0) & ~np.isinf(vol_data).any(axis=0)\n",
    "\n",
    "filtered_vol_data = vol_data[:, valid_mask]\n",
    "\n",
    "np.savetxt(\"SPX_vol_quotes_2.csv\", filtered_vol_data, delimiter=\";\")"
   ]
  },
  {
   "cell_type": "code",
   "execution_count": 43,
   "id": "1a7e2d2f",
   "metadata": {},
   "outputs": [
    {
     "name": "stdout",
     "output_type": "stream",
     "text": [
      "quotes.shape :  (2, 215)\n",
      "\n",
      " Maturity (in years): 0.10\n",
      "\n",
      " Log moneyness:  [-2.44558893e-01 -2.40871119e-01 -2.34754892e-01 -2.28675846e-01\n",
      " -2.25046078e-01 -2.22633532e-01 -2.20226792e-01 -2.16627508e-01\n",
      " -2.15430620e-01 -2.13041132e-01 -2.10657341e-01 -2.04722605e-01\n",
      " -2.01178597e-01 -1.98822883e-01 -1.96472706e-01 -1.92957764e-01\n",
      " -1.91788857e-01 -1.89455133e-01 -1.87126843e-01 -1.84803962e-01\n",
      " -1.81329726e-01 -1.80174324e-01 -1.75566021e-01 -1.73269809e-01\n",
      " -1.69835346e-01 -1.68693142e-01 -1.64137325e-01 -1.59602170e-01\n",
      " -1.58471588e-01 -1.57342282e-01 -1.55087490e-01 -1.52837770e-01\n",
      " -1.51714805e-01 -1.50593100e-01 -1.47235514e-01 -1.46118820e-01\n",
      " -1.43889164e-01 -1.42776198e-01 -1.41664469e-01 -1.39444713e-01\n",
      " -1.37229872e-01 -1.36124289e-01 -1.35019927e-01 -1.33916783e-01\n",
      " -1.32814854e-01 -1.30614633e-01 -1.29516335e-01 -1.28419243e-01\n",
      " -1.27323352e-01 -1.26228661e-01 -1.25135167e-01 -1.24042868e-01\n",
      " -1.22951760e-01 -1.21861842e-01 -1.19685563e-01 -1.18599196e-01\n",
      " -1.17514009e-01 -1.16429998e-01 -1.15347161e-01 -1.14265495e-01\n",
      " -1.11027500e-01 -1.08874647e-01 -1.07799955e-01 -1.06726418e-01\n",
      " -1.03512703e-01 -1.02443756e-01 -1.01375950e-01 -1.00309284e-01\n",
      " -9.81793575e-02 -9.71160931e-02 -9.49929501e-02 -9.28743052e-02\n",
      " -9.18166637e-02 -8.97047305e-02 -8.86504341e-02 -8.75972481e-02\n",
      " -8.65451702e-02 -8.54941979e-02 -8.44443291e-02 -8.33955613e-02\n",
      " -8.23478922e-02 -8.13013197e-02 -7.92114548e-02 -7.71259483e-02\n",
      " -7.60848238e-02 -7.50447821e-02 -7.29679381e-02 -7.19311314e-02\n",
      " -7.08953985e-02 -6.98607373e-02 -6.88271454e-02 -6.77946208e-02\n",
      " -6.67631612e-02 -6.57327644e-02 -6.47034283e-02 -6.26479291e-02\n",
      " -6.16217617e-02 -6.05966463e-02 -5.95725807e-02 -5.85495627e-02\n",
      " -5.75275902e-02 -5.65066611e-02 -5.54867732e-02 -5.44679244e-02\n",
      " -5.34501126e-02 -5.24333357e-02 -5.14175916e-02 -5.04028781e-02\n",
      " -4.93891933e-02 -4.83765350e-02 -4.73649011e-02 -4.63542896e-02\n",
      " -4.53446984e-02 -4.43361254e-02 -4.33285687e-02 -4.23220261e-02\n",
      " -4.13164956e-02 -4.03119751e-02 -3.83059564e-02 -3.73044541e-02\n",
      " -3.63039537e-02 -3.53044534e-02 -3.43059511e-02 -3.33084448e-02\n",
      " -3.23119325e-02 -3.13164122e-02 -3.03218821e-02 -2.93283400e-02\n",
      " -2.83357841e-02 -2.73442124e-02 -2.63536229e-02 -2.53640137e-02\n",
      " -2.43753829e-02 -2.33877285e-02 -2.24010486e-02 -2.14153412e-02\n",
      " -2.04306046e-02 -1.94468367e-02 -1.84640356e-02 -1.74821995e-02\n",
      " -1.65013264e-02 -1.55214146e-02 -1.45424620e-02 -1.35644668e-02\n",
      " -1.25874271e-02 -1.16113412e-02 -1.06362070e-02 -9.66202280e-03\n",
      " -8.68878671e-03 -7.71649689e-03 -6.74515150e-03 -5.77474871e-03\n",
      " -4.80528668e-03 -3.83676361e-03 -2.86917766e-03 -1.90252703e-03\n",
      " -9.36809906e-04  2.79755043e-05  9.91831001e-04  1.95475837e-03\n",
      "  2.91675941e-03  3.87783589e-03  4.83798959e-03  5.79722228e-03\n",
      "  6.75553572e-03  7.71293167e-03  8.66941190e-03  9.62497815e-03\n",
      "  1.05796322e-02  1.15333757e-02  1.24862104e-02  1.34381382e-02\n",
      "  1.43891606e-02  1.62884964e-02  1.72368132e-02  1.81842315e-02\n",
      "  1.91307531e-02  2.00763797e-02  2.10211129e-02  2.19649544e-02\n",
      "  2.29079059e-02  2.38499691e-02  2.47911456e-02  2.57314372e-02\n",
      "  2.66708454e-02  2.76093720e-02  2.94837868e-02  3.13546947e-02\n",
      "  3.32221089e-02  3.50860423e-02  3.60167078e-02  3.69465080e-02\n",
      "  3.88035187e-02  4.06570874e-02  4.25072267e-02  4.43539493e-02\n",
      "  4.52760332e-02  4.61972678e-02  4.80371947e-02  4.98737425e-02\n",
      "  5.35367503e-02  5.53632348e-02  5.71863893e-02  5.90062261e-02\n",
      "  6.26359941e-02  6.35413812e-02  6.80560616e-02  7.25504512e-02\n",
      "  7.70247316e-02  8.14790819e-02  8.59136790e-02  9.47243087e-02\n",
      "  9.91006833e-02  1.03457989e-01  1.46017603e-01]\n",
      "Implied vols from calls mid prices:  [0.34187209 0.33895412 0.33277377 0.32653757 0.3307007  0.32133118\n",
      " 0.31920661 0.31597669 0.31488895 0.31269737 0.31048648 0.30486664\n",
      " 0.30054563 0.2982554  0.29680448 0.2932841  0.29210234 0.28972669\n",
      " 0.28733516 0.28492895 0.28128938 0.28080878 0.27586423 0.27337137\n",
      " 0.27028074 0.26901331 0.26455018 0.2599871  0.25868118 0.25737239\n",
      " 0.25533003 0.25268257 0.25191873 0.25058331 0.24710227 0.2457513\n",
      " 0.24408364 0.24271634 0.24134655 0.24248592 0.23681851 0.23590701\n",
      " 0.23498191 0.23357888 0.23217346 0.23025921 0.22928311 0.22785722\n",
      " 0.22686295 0.22542963 0.22441735 0.22339344 0.22235809 0.22131148\n",
      " 0.2191852  0.22040525 0.21663066 0.21553545 0.21442987 0.21331408\n",
      " 0.21026297 0.20793382 0.20675514 0.20556755 0.20227352 0.20136495\n",
      " 0.20012448 0.19887521 0.19695651 0.19567489 0.19366681 0.19159486\n",
      " 0.19025959 0.18810516 0.18727037 0.18615283 0.18502112 0.18412807\n",
      " 0.18296508 0.18203348 0.18084018 0.17987133 0.17787373 0.17579866\n",
      " 0.17473287 0.17364865 0.17184397 0.17069984 0.16994249 0.16875814\n",
      " 0.16794799 0.16691689 0.16755007 0.16497467 0.16405817 0.16214498\n",
      " 0.16114928 0.16029876 0.1594175  0.15834132 0.15756527 0.15786263\n",
      " 0.1557537  0.15472487 0.15397125 0.15318039 0.15220716 0.15134678\n",
      " 0.1504514  0.14966042 0.14883104 0.14876615 0.14706006 0.14637905\n",
      " 0.14539893 0.14463455 0.14382752 0.14297865 0.141393   0.14145643\n",
      " 0.14065433 0.1398071  0.13913488 0.13776341 0.13763996 0.13681892\n",
      " 0.13615631 0.13544026 0.1340691  0.13335592 0.13317439 0.13205643\n",
      " 0.13146371 0.13062345 0.13019231 0.12932973 0.12868288 0.12824262\n",
      " 0.12747011 0.12698684 0.12669553 0.12564701 0.12504943 0.12438414\n",
      " 0.12390157 0.12334765 0.12272286 0.12218998 0.12198892 0.12114657\n",
      " 0.12095352 0.12060187 0.12009299 0.11966489 0.11892148 0.11841473\n",
      " 0.11790633 0.1174738  0.11703762 0.11659704 0.11622995 0.11585732\n",
      " 0.11539958 0.11501403 0.11454173 0.11414116 0.11381317 0.11347768\n",
      " 0.11313478 0.11278422 0.1125091  0.11214379 0.11185567 0.11117539\n",
      " 0.11095812 0.11064919 0.11033624 0.11011237 0.10979506 0.1095719\n",
      " 0.10925425 0.10903692 0.10872425 0.10851935 0.10821861 0.10814348\n",
      " 0.10760289 0.10712859 0.1068795  0.10637513 0.10617645 0.10602214\n",
      " 0.1057226  0.10534826 0.10509043 0.10481397 0.10462609 0.10454636\n",
      " 0.10432456 0.10445007 0.10420526 0.10397203 0.10405843 0.10399941\n",
      " 0.10416338 0.10438329 0.1050902  0.10629813 0.10745634 0.10906377\n",
      " 0.11112582 0.11588014 0.11790047 0.12091446 0.14810568]\n"
     ]
    }
   ],
   "source": [
    "quotes_corr = np.loadtxt(open(\"SPX_vol_quotes_2.csv\", \"r\"), delimiter=\";\")\n",
    "\n",
    "print(\"quotes.shape : \", quotes_corr.shape)\n",
    "\n",
    "mkt_log_mon = quotes_corr[0]\n",
    "vols_calls = quotes_corr[1]\n",
    "    \n",
    "maturity = 35/365\n",
    "\n",
    "print(\"\\n Maturity (in years): %1.2f\" %maturity)\n",
    "\n",
    "print(\"\\n Log moneyness: \", mkt_log_mon)\n",
    "print(\"Implied vols from calls mid prices: \", vols_calls)"
   ]
  },
  {
   "cell_type": "markdown",
   "id": "7f95714b",
   "metadata": {},
   "source": [
    "Let's use the same procedure used in Notebook 8 part 2 to fit the SVI model to the implied volatility smile"
   ]
  },
  {
   "cell_type": "code",
   "execution_count": 45,
   "id": "cb5e31bc",
   "metadata": {},
   "outputs": [],
   "source": [
    "import scipy.optimize as opt"
   ]
  },
  {
   "cell_type": "code",
   "execution_count": 46,
   "id": "a3472c3b",
   "metadata": {},
   "outputs": [],
   "source": [
    "def SVI(k, a, b , rho, k_bar, sig):\n",
    "    total_variance = a + b * (rho * (k - k_bar) + np.sqrt((k - k_bar)**2 + sig**2))\n",
    "    \n",
    "    return total_variance\n",
    "\n",
    "def SVI_two_arguments(theta, k):\n",
    "    a, b , rho, k_bar, sig = theta\n",
    "    \n",
    "    return SVI(k, a, b , rho, k_bar, sig)\n",
    "\n",
    "def fct_least_squares(theta, log_mon, tot_implied_variance):\n",
    "    \"\"\"\n",
    "    theta                : the vector of SVI parameters\n",
    "    log_mon              : log-forward moneyness k (float or double)\n",
    "    tot_implied_variance : the target total implied variance (float or double)\n",
    "    \n",
    "    Returns : the objective function (without the square) to be injected\n",
    "    in the least-square problem\n",
    "    \"\"\"\n",
    "    return SVI_two_arguments(theta, log_mon) - tot_implied_variance"
   ]
  },
  {
   "cell_type": "code",
   "execution_count": 47,
   "id": "ae2b65f5",
   "metadata": {},
   "outputs": [],
   "source": [
    "## Recall that our target is the vector of total variances from (call or put) price quotes\n",
    "mkt_tot_variance = maturity * vols_calls**2\n",
    "\n",
    "## Choice of initial point\n",
    "a_init = np.min(mkt_tot_variance) / 2\n",
    "b_init = 0.1\n",
    "rho_init = -0.8\n",
    "k_bar_init = 0.\n",
    "sig_init = 0.1"
   ]
  },
  {
   "cell_type": "markdown",
   "id": "e77279d3",
   "metadata": {},
   "source": [
    "We code the bounds we impose on the SVI parameters"
   ]
  },
  {
   "cell_type": "code",
   "execution_count": 48,
   "id": "fcb9e942",
   "metadata": {},
   "outputs": [],
   "source": [
    "lower = np.array([0.,   # a\n",
    "                  0.,   # b\n",
    "                  -1.,  # rho\n",
    "                  -0.5, # k_bar\n",
    "                  0.])  # sigma\n",
    "\n",
    "upper = np.array([np.max(mkt_tot_variance), # a\n",
    "                  2.,  # b\n",
    "                  1.,  # rho\n",
    "                  0.5, # k_bar\n",
    "                  1.]) # sigma\n",
    "\n",
    "SVI_param_bounds = (lower, upper)\n",
    "\n",
    "theta_init = np.array([a_init, b_init, rho_init, k_bar_init, sig_init])"
   ]
  },
  {
   "cell_type": "code",
   "execution_count": 49,
   "id": "bda9c358",
   "metadata": {},
   "outputs": [
    {
     "name": "stdout",
     "output_type": "stream",
     "text": [
      "`gtol` termination condition is satisfied.\n",
      "Function evaluations 14, initial cost 3.2531e-02, final cost 1.0171e-06, first-order optimality 6.35e-09.\n"
     ]
    }
   ],
   "source": [
    "result = opt.least_squares(fun = fct_least_squares ,\n",
    "                           x0 = theta_init , \n",
    "                           bounds = SVI_param_bounds ,\n",
    "                           args = (mkt_log_mon, mkt_tot_variance), #additional arguments for the LS objective\n",
    "                           verbose = 1)\n",
    "\n",
    "## The optimized parameters\n",
    "a_star, b_star, rho_star, k_bar_star, sig_star = result.x"
   ]
  },
  {
   "cell_type": "markdown",
   "id": "ed7d74f6",
   "metadata": {},
   "source": [
    "Let's plot the calibrated model"
   ]
  },
  {
   "cell_type": "code",
   "execution_count": 50,
   "id": "2c02abdf",
   "metadata": {},
   "outputs": [
    {
     "data": {
      "text/plain": [
       "<matplotlib.legend.Legend at 0x2df66a37050>"
      ]
     },
     "execution_count": 50,
     "metadata": {},
     "output_type": "execute_result"
    },
    {
     "data": {
      "image/png": "[encoded data removed]",
      "text/plain": [
       "<Figure size 900x600 with 1 Axes>"
      ]
     },
     "metadata": {},
     "output_type": "display_data"
    }
   ],
   "source": [
    "total_variances_fit = SVI(mkt_log_mon , a_star, b_star, rho_star, k_bar_star, sig_star)\n",
    "\n",
    "plt.figure(figsize=(9,6))\n",
    "\n",
    "plt.plot(mkt_log_mon, total_variances_fit,\n",
    "         color='royalblue', linewidth=1.5, \n",
    "         label=r\"$a$=%1.2f,  $b$=%1.2f,  $\\rho$=%1.2f,  $k_{bar}$=%1.2f,  $\\sigma$=%1.2f\" %(a_star, b_star, rho_star, k_bar_star, sig_star))\n",
    "\n",
    "plt.plot(mkt_log_mon, mkt_tot_variance,\n",
    "         color='black', linewidth=0., marker=\"+\", markersize=8, label=\"Market total variance\")\n",
    "\n",
    "\n",
    "plt.axvline(0., linestyle=\"--\", linewidth=0.5, color=\"k\")\n",
    "\n",
    "plt.xlabel(r\"log-forward moneyness $k$\", fontsize=12)\n",
    "plt.ylabel(\"Total variance\", fontsize=12)\n",
    "plt.title(r\"SVI fit from least-squares\", fontsize=15)\n",
    "\n",
    "plt.legend(loc=9, fontsize=12, bbox_to_anchor=(1.6, 1.0), ncol=1)"
   ]
  },
  {
   "cell_type": "markdown",
   "id": "5e24351b",
   "metadata": {},
   "source": [
    "$\\blacktriangleright$ __TO DO__: In a new notebook, download a new dataset of option prices for one of the available maturities (the standard maturities for SPX options being the third Friday of each month), filter out quotes that have zero volume, and perform a fitting (learning) of the SVI model parameters as done in Notebook 9. \n",
    "If you wish to use yet another set of option prices (e.g. on another asset), this is also possible. In any case, provide the dataset together with your notebook.\n"
   ]
  },
  {
   "cell_type": "markdown",
   "id": "e65beb33",
   "metadata": {},
   "source": [
    "$\\blacktriangleright$ Try to take into account the no-arbitrage conditions within the parameter learning process (or at least, after the learning process).\n",
    "\n",
    "Explain in details the procedure you have followed, and present/discuss your results."
   ]
  },
  {
   "cell_type": "code",
   "execution_count": null,
   "id": "da01f230",
   "metadata": {},
   "outputs": [],
   "source": []
  },
  {
   "cell_type": "markdown",
   "metadata": {},
   "source": [
    "## Part 2. The SSVI (\"surface SVI\") sub-family"
   ]
  },
  {
   "cell_type": "markdown",
   "metadata": {},
   "source": [
    "Below, you will recognize the SSVI parametric model that was presented in Notebook 9."
   ]
  },
  {
   "cell_type": "markdown",
   "metadata": {},
   "source": [
    "The SSVI parameterisation of [Gatheral and Jacquier, 2014](https://papers.ssrn.com/sol3/papers.cfm?abstract_id=2033323) is constructed as follows: first define the\n",
    "\n",
    "### SSVI slice\n",
    "\n",
    "$$\n",
    "w_\\mathrm{SSVI}(k) = \\frac{\\theta} 2 \\Bigl(1 + \\varphi \\, \\rho k + \\sqrt{(\\varphi \\, k + \\rho)^2 + 1 - \\rho^2} \\Bigr),\n",
    "\\qquad k \\in \\mathbb R\n",
    "$$\n",
    "\n",
    "where \n",
    "\n",
    "$$\n",
    "\\theta \\ge 0, \\qquad \\varphi \\ge 0, \\qquad \\rho \\in (-1,1).\n",
    "$$\n",
    "\n",
    "Note that $w_\\mathrm{SSVI}(k) \\big|_{k=0} = \\theta$, so that the parameter $\\theta$ corresponds to the ATM total variance."
   ]
  },
  {
   "cell_type": "markdown",
   "metadata": {},
   "source": [
    "+ Thanks to the reduced complexity (3 parameters instead of 5), the no-butterfly arbitrage conditions 1) and 3) from the lecture notes on a SSVI slice can be replaced with much simpler conditions on the parameters $(\\theta, \\varphi, \\rho)$, given in [Gatheral and Jacquier 2014], Theorem 4.2, which states that the no-arbitrage conditions 1) and 3) are satisfied if\n",
    "\n",
    "$$\n",
    "\\left\\{\n",
    "\\begin{aligned}\n",
    "&\\theta \\, \\varphi \\, (1+|\\rho|) < 4\n",
    "\\\\\n",
    "&\\theta \\, \\varphi^2 \\, (1+|\\rho|) \\le 4.\n",
    "\\end{aligned}\n",
    "\\right.\n",
    "$$"
   ]
  },
  {
   "cell_type": "markdown",
   "metadata": {},
   "source": [
    "$\\blacktriangleright$ __TO DO__: perform a fitting of the SSVI slice parameters (as opposed to SVI) to the market data already used in Part 1.2 (for the same fixed maturity).\n",
    "\n",
    "Take into account the no-arbitrage conditions on the SSVI parameterisation within or after the parameter learning process. Explain in details the procedure you have followed, and present/discuss your results."
   ]
  },
  {
   "cell_type": "markdown",
   "metadata": {},
   "source": [
    "### Full SSVI surface\n",
    "\n",
    "So far, we have only worked with fixed-maturity slices of the implied volatility surface. We haven't defined a function $w_\\mathrm{SSVI}$ of $(T, k)$ yet.\n",
    "\n",
    "Given:\n",
    "\n",
    "+ a curve $T \\mapsto \\theta_T \\ge 0$ (representing at-the-money total implied variance for maturity $T$)\n",
    "\n",
    "\n",
    "+ a function $\\varphi: \\mathbb R_+ \\to \\mathbb R_+$,\n",
    "\n",
    "the full __Surface SVI__ model is defined by\n",
    "\n",
    "$$\n",
    "\\begin{aligned}\n",
    "w_\\mathrm{SSVI}(T, k) \n",
    "&= \n",
    "w_\\mathrm{SSVI}(k; \\ \\theta_{T}, \\ \\varphi(\\theta_T), \\ \\rho) \n",
    "\\\\\n",
    "&= \\frac{\\theta_{T}} 2 \\Bigl(1 + \\varphi(\\theta_{T}) \\rho k + \\sqrt{\\bigl(\\varphi(\\theta_{T}\\bigr) k + \\rho)^2 + 1 - \\rho^2} \\Bigr),\n",
    "\\qquad k \\in \\mathbb R, T > 0.\n",
    "\\end{aligned}\n",
    "$$"
   ]
  },
  {
   "cell_type": "markdown",
   "metadata": {},
   "source": [
    "The no-calendar spread arbitrage condition we have seen in the lectures:\n",
    "  \n",
    "2) The function $T \\mapsto w_\\mathrm{SSVI}(T, k) $ is increasing, for every $k \\in \\mathbb R$,\n",
    "\n",
    "can also be reformulated as a simple condition on the functions $\\theta_\\cdot$ and $\\varphi(\\cdot)$, see [Gatheral and Jacquier 2014], Theorem 4.1:\n",
    "\n",
    "$$\n",
    "\\left\\{\n",
    "\\begin{aligned}\n",
    "& T \\mapsto \\theta_T \\text{ is increasing,} \\\\\n",
    "& 0 \\le \\frac{\\partial}{\\partial \\theta} (\\theta \\varphi(\\theta)) \\le \\frac{1}{\\rho^2} \\left(1+ \\sqrt{1-\\rho^2}\\right) \\varphi(\\theta) \\quad \\forall \\theta,\n",
    "\\end{aligned}\n",
    "\\right.\n",
    "$$\n",
    "\n",
    "where, in the second line, we have supposed that the functions $\\theta_\\cdot$ and $\\varphi(\\cdot)$ are differentiable.\n",
    "\n",
    "[Gatheral and Jacquier 2014] provide parametric examples of functions $T \\mapsto \\theta_T$ and $\\theta \\mapsto \\varphi(\\theta)$ that satisfy the no-calendar spread arbitrage condition above."
   ]
  },
  {
   "cell_type": "markdown",
   "metadata": {},
   "source": [
    "$\\blacktriangleright$ __TO DO__: dowload and use option data for at least two different maturities $T_1$ and $T_2$ (or more if you wish), observed at the same date $t$. Make a parametric choice for the functions $T \\mapsto \\theta_T$ and $\\theta \\mapsto \\varphi(\\theta)$ and perform a fitting of the full SSVI surface model to your target maturities.\n",
    "\n",
    "Take into account the no-arbitrage conditions on SSVI within or after the parameter learning process. Explain in details the procedure you have followed, and present/discuss your results."
   ]
  },
  {
   "cell_type": "code",
   "execution_count": null,
   "metadata": {},
   "outputs": [],
   "source": []
  }
 ],
 "metadata": {
  "kernelspec": {
   "display_name": "Python 3",
   "language": "python",
   "name": "python3"
  },
  "language_info": {
   "codemirror_mode": {
    "name": "ipython",
    "version": 3
   },
   "file_extension": ".py",
   "mimetype": "text/x-python",
   "name": "python",
   "nbconvert_exporter": "python",
   "pygments_lexer": "ipython3",
   "version": "3.11.4"
  }
 },
 "nbformat": 4,
 "nbformat_minor": 5
}
